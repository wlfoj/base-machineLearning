{
  "nbformat": 4,
  "nbformat_minor": 0,
  "metadata": {
    "colab": {
      "provenance": [],
      "collapsed_sections": [
        "rQT65hwJJduu",
        "hQf7LZvmz3Qf",
        "xk-Lbgfiz6qO"
      ],
      "mount_file_id": "14tMj1bmbyIrEnFYIDrcGhMw5d3ToSJ9-",
      "authorship_tag": "ABX9TyPZjT8AVbkqIu21QcUO04c5",
      "include_colab_link": true
    },
    "kernelspec": {
      "name": "python3",
      "display_name": "Python 3"
    },
    "language_info": {
      "name": "python"
    }
  },
  "cells": [
    {
      "cell_type": "markdown",
      "metadata": {
        "id": "view-in-github",
        "colab_type": "text"
      },
      "source": [
        "<a href=\"https://colab.research.google.com/github/wlfoj/base-machineLearning/blob/main/rh_out.ipynb\" target=\"_parent\"><img src=\"https://colab.research.google.com/assets/colab-badge.svg\" alt=\"Open In Colab\"/></a>"
      ]
    },
    {
      "cell_type": "markdown",
      "source": [
        "# Importando bibliotecas e carregando tabela"
      ],
      "metadata": {
        "id": "_JByEgE9I6bx"
      }
    },
    {
      "cell_type": "code",
      "execution_count": 125,
      "metadata": {
        "id": "B_fIgWr3IMmZ"
      },
      "outputs": [],
      "source": [
        "# Para manusear os dados\n",
        "import numpy as np\n",
        "import pandas as pd\n",
        "# Para visualização\n",
        "import matplotlib.pyplot as plt\n",
        "# Auxliares \n",
        "from sklearn.model_selection import train_test_split\n",
        "from sklearn.metrics import accuracy_score\n",
        "from sklearn.metrics import confusion_matrix\n",
        "# Pipeline\n",
        "from sklearn.pipeline import Pipeline\n",
        "from sklearn.compose import ColumnTransformer\n",
        "from sklearn.preprocessing import OrdinalEncoder\n",
        "from sklearn.preprocessing import OneHotEncoder\n",
        "from sklearn.preprocessing import StandardScaler\n",
        "# Modelos\n",
        "from sklearn.svm import LinearSVC\n",
        "from sklearn.neighbors import KNeighborsClassifier\n",
        "from sklearn.tree import DecisionTreeClassifier\n",
        "from sklearn.ensemble import RandomForestClassifier"
      ]
    },
    {
      "cell_type": "code",
      "source": [
        "'''AUXILIO PARA CATEGORIZAR AS COLUNAS\n",
        "Dataset baixado em ->  https://www.kaggle.com/datasets/whenamancodes/hr-employee-attrition\n",
        "\n",
        "Education\n",
        "1 'Below College'\n",
        "2 'College'\n",
        "3 'Bachelor'\n",
        "4 'Master'\n",
        "5 'Doctor'\n",
        "\n",
        "EnvironmentSatisfaction\n",
        "1 'Low'\n",
        "2 'Medium'\n",
        "3 'High'\n",
        "4 'Very High'\n",
        "\n",
        "JobInvolvement\n",
        "1 'Low'\n",
        "2 'Medium'\n",
        "3 'High'\n",
        "4 'Very High'\n",
        "\n",
        "JobSatisfaction\n",
        "1 'Low'\n",
        "2 'Medium'\n",
        "3 'High'\n",
        "4 'Very High'\n",
        "\n",
        "PerformanceRating\n",
        "1 'Low'\n",
        "2 'Good'\n",
        "3 'Excellent'\n",
        "4 'Outstanding'\n",
        "\n",
        "RelationshipSatisfaction\n",
        "1 'Low'\n",
        "2 'Medium'\n",
        "3 'High'\n",
        "4 'Very High'\n",
        "\n",
        "WorkLifeBalance\n",
        "1 'Bad'\n",
        "2 'Good'\n",
        "3 'Better'\n",
        "4 'Best'\n",
        "'''"
      ],
      "metadata": {
        "id": "homnpY6RJ56k"
      },
      "execution_count": null,
      "outputs": []
    },
    {
      "cell_type": "code",
      "source": [
        "df = pd.read_csv(\"PATH_TO_CSV\")\n",
        "df = df.drop(columns=['Over18', 'EmployeeNumber', 'EmployeeCount']) # Todos os funcionários tem mais de 18 anos\n",
        "df.info()"
      ],
      "metadata": {
        "colab": {
          "base_uri": "https://localhost:8080/"
        },
        "id": "my-qsVPyIrLU",
        "outputId": "74efb3dc-7ebf-432b-b556-fdaca89503fa"
      },
      "execution_count": 19,
      "outputs": [
        {
          "output_type": "stream",
          "name": "stdout",
          "text": [
            "<class 'pandas.core.frame.DataFrame'>\n",
            "RangeIndex: 1470 entries, 0 to 1469\n",
            "Data columns (total 32 columns):\n",
            " #   Column                    Non-Null Count  Dtype \n",
            "---  ------                    --------------  ----- \n",
            " 0   Age                       1470 non-null   int64 \n",
            " 1   Attrition                 1470 non-null   object\n",
            " 2   BusinessTravel            1470 non-null   object\n",
            " 3   DailyRate                 1470 non-null   int64 \n",
            " 4   Department                1470 non-null   object\n",
            " 5   DistanceFromHome          1470 non-null   int64 \n",
            " 6   Education                 1470 non-null   int64 \n",
            " 7   EducationField            1470 non-null   object\n",
            " 8   EnvironmentSatisfaction   1470 non-null   int64 \n",
            " 9   Gender                    1470 non-null   object\n",
            " 10  HourlyRate                1470 non-null   int64 \n",
            " 11  JobInvolvement            1470 non-null   int64 \n",
            " 12  JobLevel                  1470 non-null   int64 \n",
            " 13  JobRole                   1470 non-null   object\n",
            " 14  JobSatisfaction           1470 non-null   int64 \n",
            " 15  MaritalStatus             1470 non-null   object\n",
            " 16  MonthlyIncome             1470 non-null   int64 \n",
            " 17  MonthlyRate               1470 non-null   int64 \n",
            " 18  NumCompaniesWorked        1470 non-null   int64 \n",
            " 19  OverTime                  1470 non-null   object\n",
            " 20  PercentSalaryHike         1470 non-null   int64 \n",
            " 21  PerformanceRating         1470 non-null   int64 \n",
            " 22  RelationshipSatisfaction  1470 non-null   int64 \n",
            " 23  StandardHours             1470 non-null   int64 \n",
            " 24  StockOptionLevel          1470 non-null   int64 \n",
            " 25  TotalWorkingYears         1470 non-null   int64 \n",
            " 26  TrainingTimesLastYear     1470 non-null   int64 \n",
            " 27  WorkLifeBalance           1470 non-null   int64 \n",
            " 28  YearsAtCompany            1470 non-null   int64 \n",
            " 29  YearsInCurrentRole        1470 non-null   int64 \n",
            " 30  YearsSinceLastPromotion   1470 non-null   int64 \n",
            " 31  YearsWithCurrManager      1470 non-null   int64 \n",
            "dtypes: int64(24), object(8)\n",
            "memory usage: 367.6+ KB\n"
          ]
        }
      ]
    },
    {
      "cell_type": "code",
      "source": [
        "df.head(20)"
      ],
      "metadata": {
        "colab": {
          "base_uri": "https://localhost:8080/",
          "height": 1000
        },
        "id": "y6bafnzbMeO5",
        "outputId": "b291f9cf-c89a-40a6-9f58-6a19057b4c0b"
      },
      "execution_count": 27,
      "outputs": [
        {
          "output_type": "execute_result",
          "data": {
            "text/plain": [
              "    Age Attrition     BusinessTravel  DailyRate              Department  \\\n",
              "0    41       Yes      Travel_Rarely       1102                   Sales   \n",
              "1    49        No  Travel_Frequently        279  Research & Development   \n",
              "2    37       Yes      Travel_Rarely       1373  Research & Development   \n",
              "3    33        No  Travel_Frequently       1392  Research & Development   \n",
              "4    27        No      Travel_Rarely        591  Research & Development   \n",
              "5    32        No  Travel_Frequently       1005  Research & Development   \n",
              "6    59        No      Travel_Rarely       1324  Research & Development   \n",
              "7    30        No      Travel_Rarely       1358  Research & Development   \n",
              "8    38        No  Travel_Frequently        216  Research & Development   \n",
              "9    36        No      Travel_Rarely       1299  Research & Development   \n",
              "10   35        No      Travel_Rarely        809  Research & Development   \n",
              "11   29        No      Travel_Rarely        153  Research & Development   \n",
              "12   31        No      Travel_Rarely        670  Research & Development   \n",
              "13   34        No      Travel_Rarely       1346  Research & Development   \n",
              "14   28       Yes      Travel_Rarely        103  Research & Development   \n",
              "15   29        No      Travel_Rarely       1389  Research & Development   \n",
              "16   32        No      Travel_Rarely        334  Research & Development   \n",
              "17   22        No         Non-Travel       1123  Research & Development   \n",
              "18   53        No      Travel_Rarely       1219                   Sales   \n",
              "19   38        No      Travel_Rarely        371  Research & Development   \n",
              "\n",
              "    DistanceFromHome  Education EducationField  EnvironmentSatisfaction  \\\n",
              "0                  1          2  Life Sciences                        2   \n",
              "1                  8          1  Life Sciences                        3   \n",
              "2                  2          2          Other                        4   \n",
              "3                  3          4  Life Sciences                        4   \n",
              "4                  2          1        Medical                        1   \n",
              "5                  2          2  Life Sciences                        4   \n",
              "6                  3          3        Medical                        3   \n",
              "7                 24          1  Life Sciences                        4   \n",
              "8                 23          3  Life Sciences                        4   \n",
              "9                 27          3        Medical                        3   \n",
              "10                16          3        Medical                        1   \n",
              "11                15          2  Life Sciences                        4   \n",
              "12                26          1  Life Sciences                        1   \n",
              "13                19          2        Medical                        2   \n",
              "14                24          3  Life Sciences                        3   \n",
              "15                21          4  Life Sciences                        2   \n",
              "16                 5          2  Life Sciences                        1   \n",
              "17                16          2        Medical                        4   \n",
              "18                 2          4  Life Sciences                        1   \n",
              "19                 2          3  Life Sciences                        4   \n",
              "\n",
              "    Gender  ...  RelationshipSatisfaction  StandardHours  StockOptionLevel  \\\n",
              "0   Female  ...                         1             80                 0   \n",
              "1     Male  ...                         4             80                 1   \n",
              "2     Male  ...                         2             80                 0   \n",
              "3   Female  ...                         3             80                 0   \n",
              "4     Male  ...                         4             80                 1   \n",
              "5     Male  ...                         3             80                 0   \n",
              "6   Female  ...                         1             80                 3   \n",
              "7     Male  ...                         2             80                 1   \n",
              "8     Male  ...                         2             80                 0   \n",
              "9     Male  ...                         2             80                 2   \n",
              "10    Male  ...                         3             80                 1   \n",
              "11  Female  ...                         4             80                 0   \n",
              "12    Male  ...                         4             80                 1   \n",
              "13    Male  ...                         3             80                 1   \n",
              "14    Male  ...                         2             80                 0   \n",
              "15  Female  ...                         3             80                 1   \n",
              "16    Male  ...                         4             80                 2   \n",
              "17    Male  ...                         2             80                 2   \n",
              "18  Female  ...                         3             80                 0   \n",
              "19    Male  ...                         3             80                 0   \n",
              "\n",
              "   TotalWorkingYears  TrainingTimesLastYear WorkLifeBalance  YearsAtCompany  \\\n",
              "0                  8                      0               1               6   \n",
              "1                 10                      3               3              10   \n",
              "2                  7                      3               3               0   \n",
              "3                  8                      3               3               8   \n",
              "4                  6                      3               3               2   \n",
              "5                  8                      2               2               7   \n",
              "6                 12                      3               2               1   \n",
              "7                  1                      2               3               1   \n",
              "8                 10                      2               3               9   \n",
              "9                 17                      3               2               7   \n",
              "10                 6                      5               3               5   \n",
              "11                10                      3               3               9   \n",
              "12                 5                      1               2               5   \n",
              "13                 3                      2               3               2   \n",
              "14                 6                      4               3               4   \n",
              "15                10                      1               3              10   \n",
              "16                 7                      5               2               6   \n",
              "17                 1                      2               2               1   \n",
              "18                31                      3               3              25   \n",
              "19                 6                      3               3               3   \n",
              "\n",
              "    YearsInCurrentRole  YearsSinceLastPromotion YearsWithCurrManager  \n",
              "0                    4                        0                    5  \n",
              "1                    7                        1                    7  \n",
              "2                    0                        0                    0  \n",
              "3                    7                        3                    0  \n",
              "4                    2                        2                    2  \n",
              "5                    7                        3                    6  \n",
              "6                    0                        0                    0  \n",
              "7                    0                        0                    0  \n",
              "8                    7                        1                    8  \n",
              "9                    7                        7                    7  \n",
              "10                   4                        0                    3  \n",
              "11                   5                        0                    8  \n",
              "12                   2                        4                    3  \n",
              "13                   2                        1                    2  \n",
              "14                   2                        0                    3  \n",
              "15                   9                        8                    8  \n",
              "16                   2                        0                    5  \n",
              "17                   0                        0                    0  \n",
              "18                   8                        3                    7  \n",
              "19                   2                        1                    2  \n",
              "\n",
              "[20 rows x 32 columns]"
            ],
            "text/html": [
              "\n",
              "  <div id=\"df-2547f193-ac37-4378-ab06-20ecb21ff1b0\">\n",
              "    <div class=\"colab-df-container\">\n",
              "      <div>\n",
              "<style scoped>\n",
              "    .dataframe tbody tr th:only-of-type {\n",
              "        vertical-align: middle;\n",
              "    }\n",
              "\n",
              "    .dataframe tbody tr th {\n",
              "        vertical-align: top;\n",
              "    }\n",
              "\n",
              "    .dataframe thead th {\n",
              "        text-align: right;\n",
              "    }\n",
              "</style>\n",
              "<table border=\"1\" class=\"dataframe\">\n",
              "  <thead>\n",
              "    <tr style=\"text-align: right;\">\n",
              "      <th></th>\n",
              "      <th>Age</th>\n",
              "      <th>Attrition</th>\n",
              "      <th>BusinessTravel</th>\n",
              "      <th>DailyRate</th>\n",
              "      <th>Department</th>\n",
              "      <th>DistanceFromHome</th>\n",
              "      <th>Education</th>\n",
              "      <th>EducationField</th>\n",
              "      <th>EnvironmentSatisfaction</th>\n",
              "      <th>Gender</th>\n",
              "      <th>...</th>\n",
              "      <th>RelationshipSatisfaction</th>\n",
              "      <th>StandardHours</th>\n",
              "      <th>StockOptionLevel</th>\n",
              "      <th>TotalWorkingYears</th>\n",
              "      <th>TrainingTimesLastYear</th>\n",
              "      <th>WorkLifeBalance</th>\n",
              "      <th>YearsAtCompany</th>\n",
              "      <th>YearsInCurrentRole</th>\n",
              "      <th>YearsSinceLastPromotion</th>\n",
              "      <th>YearsWithCurrManager</th>\n",
              "    </tr>\n",
              "  </thead>\n",
              "  <tbody>\n",
              "    <tr>\n",
              "      <th>0</th>\n",
              "      <td>41</td>\n",
              "      <td>Yes</td>\n",
              "      <td>Travel_Rarely</td>\n",
              "      <td>1102</td>\n",
              "      <td>Sales</td>\n",
              "      <td>1</td>\n",
              "      <td>2</td>\n",
              "      <td>Life Sciences</td>\n",
              "      <td>2</td>\n",
              "      <td>Female</td>\n",
              "      <td>...</td>\n",
              "      <td>1</td>\n",
              "      <td>80</td>\n",
              "      <td>0</td>\n",
              "      <td>8</td>\n",
              "      <td>0</td>\n",
              "      <td>1</td>\n",
              "      <td>6</td>\n",
              "      <td>4</td>\n",
              "      <td>0</td>\n",
              "      <td>5</td>\n",
              "    </tr>\n",
              "    <tr>\n",
              "      <th>1</th>\n",
              "      <td>49</td>\n",
              "      <td>No</td>\n",
              "      <td>Travel_Frequently</td>\n",
              "      <td>279</td>\n",
              "      <td>Research &amp; Development</td>\n",
              "      <td>8</td>\n",
              "      <td>1</td>\n",
              "      <td>Life Sciences</td>\n",
              "      <td>3</td>\n",
              "      <td>Male</td>\n",
              "      <td>...</td>\n",
              "      <td>4</td>\n",
              "      <td>80</td>\n",
              "      <td>1</td>\n",
              "      <td>10</td>\n",
              "      <td>3</td>\n",
              "      <td>3</td>\n",
              "      <td>10</td>\n",
              "      <td>7</td>\n",
              "      <td>1</td>\n",
              "      <td>7</td>\n",
              "    </tr>\n",
              "    <tr>\n",
              "      <th>2</th>\n",
              "      <td>37</td>\n",
              "      <td>Yes</td>\n",
              "      <td>Travel_Rarely</td>\n",
              "      <td>1373</td>\n",
              "      <td>Research &amp; Development</td>\n",
              "      <td>2</td>\n",
              "      <td>2</td>\n",
              "      <td>Other</td>\n",
              "      <td>4</td>\n",
              "      <td>Male</td>\n",
              "      <td>...</td>\n",
              "      <td>2</td>\n",
              "      <td>80</td>\n",
              "      <td>0</td>\n",
              "      <td>7</td>\n",
              "      <td>3</td>\n",
              "      <td>3</td>\n",
              "      <td>0</td>\n",
              "      <td>0</td>\n",
              "      <td>0</td>\n",
              "      <td>0</td>\n",
              "    </tr>\n",
              "    <tr>\n",
              "      <th>3</th>\n",
              "      <td>33</td>\n",
              "      <td>No</td>\n",
              "      <td>Travel_Frequently</td>\n",
              "      <td>1392</td>\n",
              "      <td>Research &amp; Development</td>\n",
              "      <td>3</td>\n",
              "      <td>4</td>\n",
              "      <td>Life Sciences</td>\n",
              "      <td>4</td>\n",
              "      <td>Female</td>\n",
              "      <td>...</td>\n",
              "      <td>3</td>\n",
              "      <td>80</td>\n",
              "      <td>0</td>\n",
              "      <td>8</td>\n",
              "      <td>3</td>\n",
              "      <td>3</td>\n",
              "      <td>8</td>\n",
              "      <td>7</td>\n",
              "      <td>3</td>\n",
              "      <td>0</td>\n",
              "    </tr>\n",
              "    <tr>\n",
              "      <th>4</th>\n",
              "      <td>27</td>\n",
              "      <td>No</td>\n",
              "      <td>Travel_Rarely</td>\n",
              "      <td>591</td>\n",
              "      <td>Research &amp; Development</td>\n",
              "      <td>2</td>\n",
              "      <td>1</td>\n",
              "      <td>Medical</td>\n",
              "      <td>1</td>\n",
              "      <td>Male</td>\n",
              "      <td>...</td>\n",
              "      <td>4</td>\n",
              "      <td>80</td>\n",
              "      <td>1</td>\n",
              "      <td>6</td>\n",
              "      <td>3</td>\n",
              "      <td>3</td>\n",
              "      <td>2</td>\n",
              "      <td>2</td>\n",
              "      <td>2</td>\n",
              "      <td>2</td>\n",
              "    </tr>\n",
              "    <tr>\n",
              "      <th>5</th>\n",
              "      <td>32</td>\n",
              "      <td>No</td>\n",
              "      <td>Travel_Frequently</td>\n",
              "      <td>1005</td>\n",
              "      <td>Research &amp; Development</td>\n",
              "      <td>2</td>\n",
              "      <td>2</td>\n",
              "      <td>Life Sciences</td>\n",
              "      <td>4</td>\n",
              "      <td>Male</td>\n",
              "      <td>...</td>\n",
              "      <td>3</td>\n",
              "      <td>80</td>\n",
              "      <td>0</td>\n",
              "      <td>8</td>\n",
              "      <td>2</td>\n",
              "      <td>2</td>\n",
              "      <td>7</td>\n",
              "      <td>7</td>\n",
              "      <td>3</td>\n",
              "      <td>6</td>\n",
              "    </tr>\n",
              "    <tr>\n",
              "      <th>6</th>\n",
              "      <td>59</td>\n",
              "      <td>No</td>\n",
              "      <td>Travel_Rarely</td>\n",
              "      <td>1324</td>\n",
              "      <td>Research &amp; Development</td>\n",
              "      <td>3</td>\n",
              "      <td>3</td>\n",
              "      <td>Medical</td>\n",
              "      <td>3</td>\n",
              "      <td>Female</td>\n",
              "      <td>...</td>\n",
              "      <td>1</td>\n",
              "      <td>80</td>\n",
              "      <td>3</td>\n",
              "      <td>12</td>\n",
              "      <td>3</td>\n",
              "      <td>2</td>\n",
              "      <td>1</td>\n",
              "      <td>0</td>\n",
              "      <td>0</td>\n",
              "      <td>0</td>\n",
              "    </tr>\n",
              "    <tr>\n",
              "      <th>7</th>\n",
              "      <td>30</td>\n",
              "      <td>No</td>\n",
              "      <td>Travel_Rarely</td>\n",
              "      <td>1358</td>\n",
              "      <td>Research &amp; Development</td>\n",
              "      <td>24</td>\n",
              "      <td>1</td>\n",
              "      <td>Life Sciences</td>\n",
              "      <td>4</td>\n",
              "      <td>Male</td>\n",
              "      <td>...</td>\n",
              "      <td>2</td>\n",
              "      <td>80</td>\n",
              "      <td>1</td>\n",
              "      <td>1</td>\n",
              "      <td>2</td>\n",
              "      <td>3</td>\n",
              "      <td>1</td>\n",
              "      <td>0</td>\n",
              "      <td>0</td>\n",
              "      <td>0</td>\n",
              "    </tr>\n",
              "    <tr>\n",
              "      <th>8</th>\n",
              "      <td>38</td>\n",
              "      <td>No</td>\n",
              "      <td>Travel_Frequently</td>\n",
              "      <td>216</td>\n",
              "      <td>Research &amp; Development</td>\n",
              "      <td>23</td>\n",
              "      <td>3</td>\n",
              "      <td>Life Sciences</td>\n",
              "      <td>4</td>\n",
              "      <td>Male</td>\n",
              "      <td>...</td>\n",
              "      <td>2</td>\n",
              "      <td>80</td>\n",
              "      <td>0</td>\n",
              "      <td>10</td>\n",
              "      <td>2</td>\n",
              "      <td>3</td>\n",
              "      <td>9</td>\n",
              "      <td>7</td>\n",
              "      <td>1</td>\n",
              "      <td>8</td>\n",
              "    </tr>\n",
              "    <tr>\n",
              "      <th>9</th>\n",
              "      <td>36</td>\n",
              "      <td>No</td>\n",
              "      <td>Travel_Rarely</td>\n",
              "      <td>1299</td>\n",
              "      <td>Research &amp; Development</td>\n",
              "      <td>27</td>\n",
              "      <td>3</td>\n",
              "      <td>Medical</td>\n",
              "      <td>3</td>\n",
              "      <td>Male</td>\n",
              "      <td>...</td>\n",
              "      <td>2</td>\n",
              "      <td>80</td>\n",
              "      <td>2</td>\n",
              "      <td>17</td>\n",
              "      <td>3</td>\n",
              "      <td>2</td>\n",
              "      <td>7</td>\n",
              "      <td>7</td>\n",
              "      <td>7</td>\n",
              "      <td>7</td>\n",
              "    </tr>\n",
              "    <tr>\n",
              "      <th>10</th>\n",
              "      <td>35</td>\n",
              "      <td>No</td>\n",
              "      <td>Travel_Rarely</td>\n",
              "      <td>809</td>\n",
              "      <td>Research &amp; Development</td>\n",
              "      <td>16</td>\n",
              "      <td>3</td>\n",
              "      <td>Medical</td>\n",
              "      <td>1</td>\n",
              "      <td>Male</td>\n",
              "      <td>...</td>\n",
              "      <td>3</td>\n",
              "      <td>80</td>\n",
              "      <td>1</td>\n",
              "      <td>6</td>\n",
              "      <td>5</td>\n",
              "      <td>3</td>\n",
              "      <td>5</td>\n",
              "      <td>4</td>\n",
              "      <td>0</td>\n",
              "      <td>3</td>\n",
              "    </tr>\n",
              "    <tr>\n",
              "      <th>11</th>\n",
              "      <td>29</td>\n",
              "      <td>No</td>\n",
              "      <td>Travel_Rarely</td>\n",
              "      <td>153</td>\n",
              "      <td>Research &amp; Development</td>\n",
              "      <td>15</td>\n",
              "      <td>2</td>\n",
              "      <td>Life Sciences</td>\n",
              "      <td>4</td>\n",
              "      <td>Female</td>\n",
              "      <td>...</td>\n",
              "      <td>4</td>\n",
              "      <td>80</td>\n",
              "      <td>0</td>\n",
              "      <td>10</td>\n",
              "      <td>3</td>\n",
              "      <td>3</td>\n",
              "      <td>9</td>\n",
              "      <td>5</td>\n",
              "      <td>0</td>\n",
              "      <td>8</td>\n",
              "    </tr>\n",
              "    <tr>\n",
              "      <th>12</th>\n",
              "      <td>31</td>\n",
              "      <td>No</td>\n",
              "      <td>Travel_Rarely</td>\n",
              "      <td>670</td>\n",
              "      <td>Research &amp; Development</td>\n",
              "      <td>26</td>\n",
              "      <td>1</td>\n",
              "      <td>Life Sciences</td>\n",
              "      <td>1</td>\n",
              "      <td>Male</td>\n",
              "      <td>...</td>\n",
              "      <td>4</td>\n",
              "      <td>80</td>\n",
              "      <td>1</td>\n",
              "      <td>5</td>\n",
              "      <td>1</td>\n",
              "      <td>2</td>\n",
              "      <td>5</td>\n",
              "      <td>2</td>\n",
              "      <td>4</td>\n",
              "      <td>3</td>\n",
              "    </tr>\n",
              "    <tr>\n",
              "      <th>13</th>\n",
              "      <td>34</td>\n",
              "      <td>No</td>\n",
              "      <td>Travel_Rarely</td>\n",
              "      <td>1346</td>\n",
              "      <td>Research &amp; Development</td>\n",
              "      <td>19</td>\n",
              "      <td>2</td>\n",
              "      <td>Medical</td>\n",
              "      <td>2</td>\n",
              "      <td>Male</td>\n",
              "      <td>...</td>\n",
              "      <td>3</td>\n",
              "      <td>80</td>\n",
              "      <td>1</td>\n",
              "      <td>3</td>\n",
              "      <td>2</td>\n",
              "      <td>3</td>\n",
              "      <td>2</td>\n",
              "      <td>2</td>\n",
              "      <td>1</td>\n",
              "      <td>2</td>\n",
              "    </tr>\n",
              "    <tr>\n",
              "      <th>14</th>\n",
              "      <td>28</td>\n",
              "      <td>Yes</td>\n",
              "      <td>Travel_Rarely</td>\n",
              "      <td>103</td>\n",
              "      <td>Research &amp; Development</td>\n",
              "      <td>24</td>\n",
              "      <td>3</td>\n",
              "      <td>Life Sciences</td>\n",
              "      <td>3</td>\n",
              "      <td>Male</td>\n",
              "      <td>...</td>\n",
              "      <td>2</td>\n",
              "      <td>80</td>\n",
              "      <td>0</td>\n",
              "      <td>6</td>\n",
              "      <td>4</td>\n",
              "      <td>3</td>\n",
              "      <td>4</td>\n",
              "      <td>2</td>\n",
              "      <td>0</td>\n",
              "      <td>3</td>\n",
              "    </tr>\n",
              "    <tr>\n",
              "      <th>15</th>\n",
              "      <td>29</td>\n",
              "      <td>No</td>\n",
              "      <td>Travel_Rarely</td>\n",
              "      <td>1389</td>\n",
              "      <td>Research &amp; Development</td>\n",
              "      <td>21</td>\n",
              "      <td>4</td>\n",
              "      <td>Life Sciences</td>\n",
              "      <td>2</td>\n",
              "      <td>Female</td>\n",
              "      <td>...</td>\n",
              "      <td>3</td>\n",
              "      <td>80</td>\n",
              "      <td>1</td>\n",
              "      <td>10</td>\n",
              "      <td>1</td>\n",
              "      <td>3</td>\n",
              "      <td>10</td>\n",
              "      <td>9</td>\n",
              "      <td>8</td>\n",
              "      <td>8</td>\n",
              "    </tr>\n",
              "    <tr>\n",
              "      <th>16</th>\n",
              "      <td>32</td>\n",
              "      <td>No</td>\n",
              "      <td>Travel_Rarely</td>\n",
              "      <td>334</td>\n",
              "      <td>Research &amp; Development</td>\n",
              "      <td>5</td>\n",
              "      <td>2</td>\n",
              "      <td>Life Sciences</td>\n",
              "      <td>1</td>\n",
              "      <td>Male</td>\n",
              "      <td>...</td>\n",
              "      <td>4</td>\n",
              "      <td>80</td>\n",
              "      <td>2</td>\n",
              "      <td>7</td>\n",
              "      <td>5</td>\n",
              "      <td>2</td>\n",
              "      <td>6</td>\n",
              "      <td>2</td>\n",
              "      <td>0</td>\n",
              "      <td>5</td>\n",
              "    </tr>\n",
              "    <tr>\n",
              "      <th>17</th>\n",
              "      <td>22</td>\n",
              "      <td>No</td>\n",
              "      <td>Non-Travel</td>\n",
              "      <td>1123</td>\n",
              "      <td>Research &amp; Development</td>\n",
              "      <td>16</td>\n",
              "      <td>2</td>\n",
              "      <td>Medical</td>\n",
              "      <td>4</td>\n",
              "      <td>Male</td>\n",
              "      <td>...</td>\n",
              "      <td>2</td>\n",
              "      <td>80</td>\n",
              "      <td>2</td>\n",
              "      <td>1</td>\n",
              "      <td>2</td>\n",
              "      <td>2</td>\n",
              "      <td>1</td>\n",
              "      <td>0</td>\n",
              "      <td>0</td>\n",
              "      <td>0</td>\n",
              "    </tr>\n",
              "    <tr>\n",
              "      <th>18</th>\n",
              "      <td>53</td>\n",
              "      <td>No</td>\n",
              "      <td>Travel_Rarely</td>\n",
              "      <td>1219</td>\n",
              "      <td>Sales</td>\n",
              "      <td>2</td>\n",
              "      <td>4</td>\n",
              "      <td>Life Sciences</td>\n",
              "      <td>1</td>\n",
              "      <td>Female</td>\n",
              "      <td>...</td>\n",
              "      <td>3</td>\n",
              "      <td>80</td>\n",
              "      <td>0</td>\n",
              "      <td>31</td>\n",
              "      <td>3</td>\n",
              "      <td>3</td>\n",
              "      <td>25</td>\n",
              "      <td>8</td>\n",
              "      <td>3</td>\n",
              "      <td>7</td>\n",
              "    </tr>\n",
              "    <tr>\n",
              "      <th>19</th>\n",
              "      <td>38</td>\n",
              "      <td>No</td>\n",
              "      <td>Travel_Rarely</td>\n",
              "      <td>371</td>\n",
              "      <td>Research &amp; Development</td>\n",
              "      <td>2</td>\n",
              "      <td>3</td>\n",
              "      <td>Life Sciences</td>\n",
              "      <td>4</td>\n",
              "      <td>Male</td>\n",
              "      <td>...</td>\n",
              "      <td>3</td>\n",
              "      <td>80</td>\n",
              "      <td>0</td>\n",
              "      <td>6</td>\n",
              "      <td>3</td>\n",
              "      <td>3</td>\n",
              "      <td>3</td>\n",
              "      <td>2</td>\n",
              "      <td>1</td>\n",
              "      <td>2</td>\n",
              "    </tr>\n",
              "  </tbody>\n",
              "</table>\n",
              "<p>20 rows × 32 columns</p>\n",
              "</div>\n",
              "      <button class=\"colab-df-convert\" onclick=\"convertToInteractive('df-2547f193-ac37-4378-ab06-20ecb21ff1b0')\"\n",
              "              title=\"Convert this dataframe to an interactive table.\"\n",
              "              style=\"display:none;\">\n",
              "        \n",
              "  <svg xmlns=\"http://www.w3.org/2000/svg\" height=\"24px\"viewBox=\"0 0 24 24\"\n",
              "       width=\"24px\">\n",
              "    <path d=\"M0 0h24v24H0V0z\" fill=\"none\"/>\n",
              "    <path d=\"M18.56 5.44l.94 2.06.94-2.06 2.06-.94-2.06-.94-.94-2.06-.94 2.06-2.06.94zm-11 1L8.5 8.5l.94-2.06 2.06-.94-2.06-.94L8.5 2.5l-.94 2.06-2.06.94zm10 10l.94 2.06.94-2.06 2.06-.94-2.06-.94-.94-2.06-.94 2.06-2.06.94z\"/><path d=\"M17.41 7.96l-1.37-1.37c-.4-.4-.92-.59-1.43-.59-.52 0-1.04.2-1.43.59L10.3 9.45l-7.72 7.72c-.78.78-.78 2.05 0 2.83L4 21.41c.39.39.9.59 1.41.59.51 0 1.02-.2 1.41-.59l7.78-7.78 2.81-2.81c.8-.78.8-2.07 0-2.86zM5.41 20L4 18.59l7.72-7.72 1.47 1.35L5.41 20z\"/>\n",
              "  </svg>\n",
              "      </button>\n",
              "      \n",
              "  <style>\n",
              "    .colab-df-container {\n",
              "      display:flex;\n",
              "      flex-wrap:wrap;\n",
              "      gap: 12px;\n",
              "    }\n",
              "\n",
              "    .colab-df-convert {\n",
              "      background-color: #E8F0FE;\n",
              "      border: none;\n",
              "      border-radius: 50%;\n",
              "      cursor: pointer;\n",
              "      display: none;\n",
              "      fill: #1967D2;\n",
              "      height: 32px;\n",
              "      padding: 0 0 0 0;\n",
              "      width: 32px;\n",
              "    }\n",
              "\n",
              "    .colab-df-convert:hover {\n",
              "      background-color: #E2EBFA;\n",
              "      box-shadow: 0px 1px 2px rgba(60, 64, 67, 0.3), 0px 1px 3px 1px rgba(60, 64, 67, 0.15);\n",
              "      fill: #174EA6;\n",
              "    }\n",
              "\n",
              "    [theme=dark] .colab-df-convert {\n",
              "      background-color: #3B4455;\n",
              "      fill: #D2E3FC;\n",
              "    }\n",
              "\n",
              "    [theme=dark] .colab-df-convert:hover {\n",
              "      background-color: #434B5C;\n",
              "      box-shadow: 0px 1px 3px 1px rgba(0, 0, 0, 0.15);\n",
              "      filter: drop-shadow(0px 1px 2px rgba(0, 0, 0, 0.3));\n",
              "      fill: #FFFFFF;\n",
              "    }\n",
              "  </style>\n",
              "\n",
              "      <script>\n",
              "        const buttonEl =\n",
              "          document.querySelector('#df-2547f193-ac37-4378-ab06-20ecb21ff1b0 button.colab-df-convert');\n",
              "        buttonEl.style.display =\n",
              "          google.colab.kernel.accessAllowed ? 'block' : 'none';\n",
              "\n",
              "        async function convertToInteractive(key) {\n",
              "          const element = document.querySelector('#df-2547f193-ac37-4378-ab06-20ecb21ff1b0');\n",
              "          const dataTable =\n",
              "            await google.colab.kernel.invokeFunction('convertToInteractive',\n",
              "                                                     [key], {});\n",
              "          if (!dataTable) return;\n",
              "\n",
              "          const docLinkHtml = 'Like what you see? Visit the ' +\n",
              "            '<a target=\"_blank\" href=https://colab.research.google.com/notebooks/data_table.ipynb>data table notebook</a>'\n",
              "            + ' to learn more about interactive tables.';\n",
              "          element.innerHTML = '';\n",
              "          dataTable['output_type'] = 'display_data';\n",
              "          await google.colab.output.renderOutput(dataTable, element);\n",
              "          const docLink = document.createElement('div');\n",
              "          docLink.innerHTML = docLinkHtml;\n",
              "          element.appendChild(docLink);\n",
              "        }\n",
              "      </script>\n",
              "    </div>\n",
              "  </div>\n",
              "  "
            ]
          },
          "metadata": {},
          "execution_count": 27
        }
      ]
    },
    {
      "cell_type": "code",
      "source": [
        "## Analisando as features categóricas\n",
        "display(df['Attrition'].value_counts())\n",
        "display(60*'-')\n",
        "display(df['BusinessTravel'].value_counts())\n",
        "display(60*'-')\n",
        "display(df['Department'].value_counts())\n",
        "display(60*'-')\n",
        "display(df['EducationField'].value_counts())\n",
        "display(60*'-')\n",
        "display(df['Gender'].value_counts())\n",
        "display(60*'-')\n",
        "display(df['JobRole'].value_counts())\n",
        "display(60*'-')\n",
        "display(df['MaritalStatus'].value_counts())\n",
        "display(60*'-')\n",
        "display(df['OverTime'].value_counts())"
      ],
      "metadata": {
        "colab": {
          "base_uri": "https://localhost:8080/",
          "height": 805
        },
        "id": "v0XW3_9xKGLk",
        "outputId": "761a9371-38ff-4db2-c02c-d4ec027bc612"
      },
      "execution_count": 12,
      "outputs": [
        {
          "output_type": "display_data",
          "data": {
            "text/plain": [
              "No     1233\n",
              "Yes     237\n",
              "Name: Attrition, dtype: int64"
            ]
          },
          "metadata": {}
        },
        {
          "output_type": "display_data",
          "data": {
            "text/plain": [
              "'------------------------------------------------------------'"
            ],
            "application/vnd.google.colaboratory.intrinsic+json": {
              "type": "string"
            }
          },
          "metadata": {}
        },
        {
          "output_type": "display_data",
          "data": {
            "text/plain": [
              "Travel_Rarely        1043\n",
              "Travel_Frequently     277\n",
              "Non-Travel            150\n",
              "Name: BusinessTravel, dtype: int64"
            ]
          },
          "metadata": {}
        },
        {
          "output_type": "display_data",
          "data": {
            "text/plain": [
              "'------------------------------------------------------------'"
            ],
            "application/vnd.google.colaboratory.intrinsic+json": {
              "type": "string"
            }
          },
          "metadata": {}
        },
        {
          "output_type": "display_data",
          "data": {
            "text/plain": [
              "Research & Development    961\n",
              "Sales                     446\n",
              "Human Resources            63\n",
              "Name: Department, dtype: int64"
            ]
          },
          "metadata": {}
        },
        {
          "output_type": "display_data",
          "data": {
            "text/plain": [
              "'------------------------------------------------------------'"
            ],
            "application/vnd.google.colaboratory.intrinsic+json": {
              "type": "string"
            }
          },
          "metadata": {}
        },
        {
          "output_type": "display_data",
          "data": {
            "text/plain": [
              "Life Sciences       606\n",
              "Medical             464\n",
              "Marketing           159\n",
              "Technical Degree    132\n",
              "Other                82\n",
              "Human Resources      27\n",
              "Name: EducationField, dtype: int64"
            ]
          },
          "metadata": {}
        },
        {
          "output_type": "display_data",
          "data": {
            "text/plain": [
              "'------------------------------------------------------------'"
            ],
            "application/vnd.google.colaboratory.intrinsic+json": {
              "type": "string"
            }
          },
          "metadata": {}
        },
        {
          "output_type": "display_data",
          "data": {
            "text/plain": [
              "Male      882\n",
              "Female    588\n",
              "Name: Gender, dtype: int64"
            ]
          },
          "metadata": {}
        },
        {
          "output_type": "display_data",
          "data": {
            "text/plain": [
              "'------------------------------------------------------------'"
            ],
            "application/vnd.google.colaboratory.intrinsic+json": {
              "type": "string"
            }
          },
          "metadata": {}
        },
        {
          "output_type": "display_data",
          "data": {
            "text/plain": [
              "Sales Executive              326\n",
              "Research Scientist           292\n",
              "Laboratory Technician        259\n",
              "Manufacturing Director       145\n",
              "Healthcare Representative    131\n",
              "Manager                      102\n",
              "Sales Representative          83\n",
              "Research Director             80\n",
              "Human Resources               52\n",
              "Name: JobRole, dtype: int64"
            ]
          },
          "metadata": {}
        },
        {
          "output_type": "display_data",
          "data": {
            "text/plain": [
              "'------------------------------------------------------------'"
            ],
            "application/vnd.google.colaboratory.intrinsic+json": {
              "type": "string"
            }
          },
          "metadata": {}
        },
        {
          "output_type": "display_data",
          "data": {
            "text/plain": [
              "Married     673\n",
              "Single      470\n",
              "Divorced    327\n",
              "Name: MaritalStatus, dtype: int64"
            ]
          },
          "metadata": {}
        },
        {
          "output_type": "display_data",
          "data": {
            "text/plain": [
              "'------------------------------------------------------------'"
            ],
            "application/vnd.google.colaboratory.intrinsic+json": {
              "type": "string"
            }
          },
          "metadata": {}
        },
        {
          "output_type": "display_data",
          "data": {
            "text/plain": [
              "No     1054\n",
              "Yes     416\n",
              "Name: OverTime, dtype: int64"
            ]
          },
          "metadata": {}
        }
      ]
    },
    {
      "cell_type": "markdown",
      "source": [
        "# Processando as colunas"
      ],
      "metadata": {
        "id": "rQT65hwJJduu"
      }
    },
    {
      "cell_type": "code",
      "source": [
        "#separa o traino do teste\n",
        "df_train, df_test, y_train, y_test = train_test_split(X, Y, test_size=0.35, random_state=42)"
      ],
      "metadata": {
        "id": "5b3pzIQaTKsZ"
      },
      "execution_count": 87,
      "outputs": []
    },
    {
      "cell_type": "code",
      "source": [
        "# Separando as colunas essenciais\n",
        "col_ordinal = ['Gender', 'BusinessTravel', 'OverTime']#, 'Attrition']\n",
        "col_1hot = ['JobRole', 'EducationField', 'MaritalStatus', 'Department']\n",
        "\n",
        "dfx = df.drop(columns=['Gender', 'BusinessTravel', 'OverTime', 'Attrition', 'JobRole', 'EducationField', 'MaritalStatus', 'Department'])\n",
        "col_num = list(dfx.columns)\n",
        "\n",
        "# Estruturando Pipelines\n",
        "num_pipe = Pipeline([\n",
        "    (\"std_sca\", StandardScaler())\n",
        "])\n",
        "\n",
        "pipeline = ColumnTransformer([\n",
        "    (\"num\", num_pipe, col_num),\n",
        "    (\"ordinal\", OrdinalEncoder(), col_ordinal),\n",
        "    (\"1hot\", OneHotEncoder(), col_1hot)\n",
        "])\n",
        "# A ordem das colunas é 1º todas as col_num depois todas as col_ordinal e por fim a col_1hot\n",
        "\n",
        "# Tratando os dados\n",
        "df_prepared = pipeline.fit_transform(df_train)"
      ],
      "metadata": {
        "id": "OA5gZcO_T96h"
      },
      "execution_count": 88,
      "outputs": []
    },
    {
      "cell_type": "code",
      "source": [
        "# Separando os dados\n",
        "Y = df[['Attrition']] # target\n",
        "X = df.drop(columns=['Attrition']) # features"
      ],
      "metadata": {
        "id": "pTItVUjyY_dl"
      },
      "execution_count": 89,
      "outputs": []
    },
    {
      "cell_type": "markdown",
      "source": [
        "# Realizando os testes"
      ],
      "metadata": {
        "id": "PR_y8eTCmGmp"
      }
    },
    {
      "cell_type": "markdown",
      "source": [
        "## Arvore de Decisão"
      ],
      "metadata": {
        "id": "hQf7LZvmz3Qf"
      }
    },
    {
      "cell_type": "code",
      "source": [
        "# Treina a rede\n",
        "tree = DecisionTreeClassifier(max_depth=3)\n",
        "tree.fit(df_prepared, y_train)\n",
        "\n",
        "# Faz os testes\n",
        "test_prepared = pipeline.fit_transform(df_test)\n",
        "pred = tree.predict(test_prepared)\n",
        "# Análise da acurácia nos testes\n",
        "accuracy = accuracy_score(y_test, pred)*100\n",
        "print (\"A acurácia foi de {:.2f}%.\".format(accuracy))"
      ],
      "metadata": {
        "colab": {
          "base_uri": "https://localhost:8080/"
        },
        "id": "Ei0GxqDWa9jH",
        "outputId": "25669dd4-e7f8-4c41-fe9e-98f0f48427b5"
      },
      "execution_count": 124,
      "outputs": [
        {
          "output_type": "stream",
          "name": "stdout",
          "text": [
            "A acurácia foi de 85.83%.\n"
          ]
        }
      ]
    },
    {
      "cell_type": "code",
      "source": [
        "# Analisando nos testes\n",
        "pred = tree.predict(test_prepared)\n",
        "print(\"-- Matriz de confusão para testes --\")\n",
        "print(confusion_matrix(y_test, pred))\n",
        "\n",
        "# Analisando no treinamento\n",
        "pred = tree.predict(df_prepared)\n",
        "print(\"-- Matriz de confusão para treinamento --\")\n",
        "print(confusion_matrix(y_train, pred))"
      ],
      "metadata": {
        "colab": {
          "base_uri": "https://localhost:8080/"
        },
        "id": "snDu93q7xctz",
        "outputId": "ae221b35-da6b-4c35-e0fc-d4cb012721ac"
      },
      "execution_count": 97,
      "outputs": [
        {
          "output_type": "stream",
          "name": "stdout",
          "text": [
            "-- Matriz de confusão para testes --\n",
            "[[418  24]\n",
            " [ 60  13]]\n",
            "-- Matriz de confusão para treinamento --\n",
            "[[788   3]\n",
            " [100  64]]\n"
          ]
        }
      ]
    },
    {
      "cell_type": "markdown",
      "source": [
        "## Knn"
      ],
      "metadata": {
        "id": "xk-Lbgfiz6qO"
      }
    },
    {
      "cell_type": "code",
      "source": [
        "neigh = KNeighborsClassifier(n_neighbors=7)\n",
        "neigh.fit(df_prepared, y_train)\n",
        "\n",
        "pred = neigh.predict(test_prepared)\n",
        "# Análise da acurácia nos testes\n",
        "accuracy = accuracy_score(y_test, pred)*100\n",
        "print (\"A acurácia foi de {:.2f}%.\".format(accuracy))"
      ],
      "metadata": {
        "colab": {
          "base_uri": "https://localhost:8080/"
        },
        "id": "uMptm82WyjM7",
        "outputId": "69dc7933-a0ef-48c6-8704-d0950dc18ddc"
      },
      "execution_count": 123,
      "outputs": [
        {
          "output_type": "stream",
          "name": "stdout",
          "text": [
            "A acurácia foi de 86.60%.\n"
          ]
        },
        {
          "output_type": "stream",
          "name": "stderr",
          "text": [
            "/usr/local/lib/python3.7/dist-packages/sklearn/neighbors/_classification.py:198: DataConversionWarning: A column-vector y was passed when a 1d array was expected. Please change the shape of y to (n_samples,), for example using ravel().\n",
            "  return self._fit(X, y)\n"
          ]
        }
      ]
    },
    {
      "cell_type": "code",
      "source": [
        "pred = neigh.predict(test_prepared)\n",
        "print(\"-- Matriz de confusão para testes --\")\n",
        "print(confusion_matrix(y_test, pred))\n",
        "\n",
        "pred = neigh.predict(df_prepared)\n",
        "print(\"-- Matriz de confusão para treino --\")\n",
        "print(confusion_matrix(y_train, pred))"
      ],
      "metadata": {
        "colab": {
          "base_uri": "https://localhost:8080/"
        },
        "id": "PMgPgRbxzaOC",
        "outputId": "b082d7af-c637-4fb4-a96c-bdc6b69fa193"
      },
      "execution_count": 121,
      "outputs": [
        {
          "output_type": "stream",
          "name": "stdout",
          "text": [
            "-- Matriz de confusão para testes --\n",
            "[[434   8]\n",
            " [ 65   8]]\n",
            "-- Matriz de confusão para treino --\n",
            "[[781  10]\n",
            " [115  49]]\n"
          ]
        }
      ]
    },
    {
      "cell_type": "markdown",
      "source": [
        "## Random Forest"
      ],
      "metadata": {
        "id": "qQwFhKNn2snk"
      }
    },
    {
      "cell_type": "code",
      "source": [
        "forest = RandomForestClassifier()\n",
        "forest.fit(df_prepared, y_train)\n",
        "\n",
        "pred = forest.predict(test_prepared)\n",
        "# Análise da acurácia nos testes\n",
        "accuracy = accuracy_score(y_test, pred)*100\n",
        "print (\"A acurácia foi de {:.2f}%.\".format(accuracy))"
      ],
      "metadata": {
        "colab": {
          "base_uri": "https://localhost:8080/"
        },
        "id": "2p96hACj2uss",
        "outputId": "ec27c6d5-742c-4e59-e8c2-745ae208eb3c"
      },
      "execution_count": 126,
      "outputs": [
        {
          "output_type": "stream",
          "name": "stderr",
          "text": [
            "/usr/local/lib/python3.7/dist-packages/ipykernel_launcher.py:2: DataConversionWarning: A column-vector y was passed when a 1d array was expected. Please change the shape of y to (n_samples,), for example using ravel().\n",
            "  \n"
          ]
        },
        {
          "output_type": "stream",
          "name": "stdout",
          "text": [
            "A acurácia foi de 86.80%.\n"
          ]
        }
      ]
    },
    {
      "cell_type": "code",
      "source": [
        "pred = forest.predict(test_prepared)\n",
        "print(\"-- Matriz de confusão para testes --\")\n",
        "print(confusion_matrix(y_test, pred))\n",
        "\n",
        "pred = forest.predict(df_prepared)\n",
        "print(\"-- Matriz de confusão para treino --\")\n",
        "print(confusion_matrix(y_train, pred))"
      ],
      "metadata": {
        "colab": {
          "base_uri": "https://localhost:8080/"
        },
        "id": "_BtfKuUm3O8R",
        "outputId": "9fdf75f4-9ac6-47ac-ffaa-c9a80465774d"
      },
      "execution_count": 127,
      "outputs": [
        {
          "output_type": "stream",
          "name": "stdout",
          "text": [
            "-- Matriz de confusão para testes --\n",
            "[[436   6]\n",
            " [ 62  11]]\n",
            "-- Matriz de confusão para treino --\n",
            "[[791   0]\n",
            " [  0 164]]\n"
          ]
        }
      ]
    },
    {
      "cell_type": "code",
      "source": [
        "# Extraindo grau de importância de cada coluna \n",
        "columns = col_num + col_ordinal + col_1hot\n",
        "sorted(zip(forest.feature_importances_, columns), reverse= True)"
      ],
      "metadata": {
        "colab": {
          "base_uri": "https://localhost:8080/"
        },
        "id": "JfeICkFi5I84",
        "outputId": "c9f318df-0933-41ae-bf25-57adfb6b7783"
      },
      "execution_count": 134,
      "outputs": [
        {
          "output_type": "execute_result",
          "data": {
            "text/plain": [
              "[(0.0707895547835972, 'MonthlyIncome'),\n",
              " (0.06299296434798148, 'Age'),\n",
              " (0.056652866610221446, 'TotalWorkingYears'),\n",
              " (0.05325049950719668, 'OverTime'),\n",
              " (0.049370077151009564, 'DailyRate'),\n",
              " (0.04537963917071661, 'MonthlyRate'),\n",
              " (0.044008366212606405, 'YearsAtCompany'),\n",
              " (0.04269558536693967, 'HourlyRate'),\n",
              " (0.04254028115194055, 'DistanceFromHome'),\n",
              " (0.036601565690687995, 'NumCompaniesWorked'),\n",
              " (0.035216325190214844, 'PercentSalaryHike'),\n",
              " (0.03284433267028704, 'YearsWithCurrManager'),\n",
              " (0.032186635738126815, 'YearsInCurrentRole'),\n",
              " (0.026244969311542774, 'TrainingTimesLastYear'),\n",
              " (0.02580762220804451, 'EnvironmentSatisfaction'),\n",
              " (0.025500519131276392, 'StockOptionLevel'),\n",
              " (0.024952203436371057, 'JobSatisfaction'),\n",
              " (0.02412337000033056, 'YearsSinceLastPromotion'),\n",
              " (0.02366389848538609, 'JobLevel'),\n",
              " (0.0223505967955133, 'JobInvolvement'),\n",
              " (0.020729924458236657, 'RelationshipSatisfaction'),\n",
              " (0.020051171918550163, 'Education'),\n",
              " (0.01820576416253405, 'WorkLifeBalance'),\n",
              " (0.010203416903730094, 'Gender'),\n",
              " (0.010005195033297507, 'BusinessTravel'),\n",
              " (0.008063733685504903, 'MaritalStatus'),\n",
              " (0.004533674982742187, 'PerformanceRating'),\n",
              " (0.002799424156822213, 'EducationField'),\n",
              " (0.0019109548771141624, 'JobRole'),\n",
              " (0.001509499123777242, 'Department'),\n",
              " (0.0, 'StandardHours')]"
            ]
          },
          "metadata": {},
          "execution_count": 134
        }
      ]
    }
  ]
}